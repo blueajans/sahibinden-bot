{
 "cells": [
  {
   "cell_type": "code",
   "execution_count": 1,
   "metadata": {},
   "outputs": [],
   "source": [
    "from sahibinden_bot.scraper import Scraper\n",
    "scraper = Scraper(\"127.0.0.1:7890\")\n",
    "scraper.fresh_start() \n",
    "ilan_detay = scraper.listing_detail('1066369263')"
   ]
  },
  {
   "cell_type": "code",
   "execution_count": 2,
   "metadata": {},
   "outputs": [
    {
     "name": "stdout",
     "output_type": "stream",
     "text": [
      "{'boya': 'sağ arka çamurluk ve marşpiyerin yarısı boyalı 1900 ', 'degisen': '00', 'tramer': '1900 TL'}\n",
      "{'painted': 'sağ arka çamurluk ve marşpiyerin yarısı boyalı 1900 ', 'changed': '00', 'tramer': '1900'}\n"
     ]
    },
    {
     "data": {
      "text/plain": [
       "'1900'"
      ]
     },
     "execution_count": 2,
     "metadata": {},
     "output_type": "execute_result"
    }
   ],
   "source": [
    "from sahibinden_bot.google_extractor import otoendeks\n",
    "endeks = otoendeks(ilan_detay['description'])\n",
    "print(endeks)"
   ]
  }
 ],
 "metadata": {
  "kernelspec": {
   "display_name": "Python 3",
   "language": "python",
   "name": "python3"
  },
  "language_info": {
   "codemirror_mode": {
    "name": "ipython",
    "version": 3
   },
   "file_extension": ".py",
   "mimetype": "text/x-python",
   "name": "python",
   "nbconvert_exporter": "python",
   "pygments_lexer": "ipython3",
   "version": "3.10.8"
  },
  "orig_nbformat": 4,
  "vscode": {
   "interpreter": {
    "hash": "767d51c1340bd893661ea55ea3124f6de3c7a262a8b4abca0554b478b1e2ff90"
   }
  }
 },
 "nbformat": 4,
 "nbformat_minor": 2
}
